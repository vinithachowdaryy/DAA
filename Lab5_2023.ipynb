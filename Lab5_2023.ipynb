{
 "cells": [
  {
   "cell_type": "markdown",
   "metadata": {},
   "source": [
    "Q1. Candies"
   ]
  },
  {
   "cell_type": "code",
   "execution_count": 1,
   "metadata": {},
   "outputs": [
    {
     "name": "stdout",
     "output_type": "stream",
     "text": [
      "10\n",
      "4\n",
      "19\n",
      "12\n"
     ]
    }
   ],
   "source": [
    "def minimum_candies(ratings):\n",
    "    n = len(ratings)\n",
    "    candies = [1] * n\n",
    "    \n",
    "    # First pass: Check left neighbor\n",
    "    for i in range(1, n):\n",
    "        if ratings[i] > ratings[i - 1]:\n",
    "            candies[i] = candies[i - 1] + 1\n",
    "    \n",
    "    # Second pass: Check right neighbor\n",
    "    for i in range(n - 2, -1, -1):\n",
    "        if ratings[i] > ratings[i + 1]:\n",
    "            candies[i] = max(candies[i], candies[i + 1] + 1)\n",
    "            \n",
    "    return sum(candies)\n",
    "\n",
    "# Test cases\n",
    "print(minimum_candies([4, 6, 4, 5, 6, 2]))  # Example 1: Should return 10\n",
    "print(minimum_candies([1, 2, 2]))          # Sample Input 0: Should return 4\n",
    "print(minimum_candies([2, 4, 2, 6, 1, 7, 8, 9, 2, 1]))  # Sample Input 1: Should return 19\n",
    "print(minimum_candies([2, 4, 3, 5, 2, 6, 4, 5]))        # Sample Input 2: Should return 12\n"
   ]
  },
  {
   "cell_type": "markdown",
   "metadata": {},
   "source": [
    "Q2. Cloudy Day"
   ]
  },
  {
   "cell_type": "code",
   "execution_count": 4,
   "metadata": {},
   "outputs": [
    {
     "data": {
      "text/plain": [
       "110"
      ]
     },
     "execution_count": 4,
     "metadata": {},
     "output_type": "execute_result"
    }
   ],
   "source": [
    "def maximumPeople(populations, town_locations, cloud_locations, cloud_ranges):\n",
    "    # Create a list to hold the coverage of each cloud and initialize the total sunny population\n",
    "    cloud_coverage = [set() for _ in cloud_locations]\n",
    "    sunny_population = sum(populations)  # Assuming initially all towns are sunny\n",
    "    \n",
    "    # Determine which towns are covered by each cloud\n",
    "    for town_index, town_location in enumerate(town_locations):\n",
    "        for cloud_index, (cloud_location, cloud_range) in enumerate(zip(cloud_locations, cloud_ranges)):\n",
    "            if abs(cloud_location - town_location) <= cloud_range:\n",
    "                cloud_coverage[cloud_index].add(town_index)\n",
    "                sunny_population -= populations[town_index]  # Remove town's population from sunny population\n",
    "    \n",
    "    # Calculate the population that would be sunny if a specific cloud were removed\n",
    "    max_population_sunny_after_removing_cloud = 0\n",
    "    for cloud_index, covered_towns in enumerate(cloud_coverage):\n",
    "        population_sunny_if_removed = 0\n",
    "        for town_index in covered_towns:\n",
    "            # Check if this town is only covered by the current cloud\n",
    "            if all(town_index not in cloud_coverage[other_cloud] for other_cloud in range(len(cloud_coverage)) if other_cloud != cloud_index):\n",
    "                population_sunny_if_removed += populations[town_index]\n",
    "        max_population_sunny_after_removing_cloud = max(max_population_sunny_after_removing_cloud, population_sunny_if_removed)\n",
    "    \n",
    "    # The maximum sunny population is the initial sunny population plus the best improvement from removing a cloud\n",
    "    return sunny_population + max_population_sunny_after_removing_cloud\n",
    "\n",
    "# Sample Input 0\n",
    "populations = [10, 100]\n",
    "town_locations = [5, 100]\n",
    "cloud_locations = [4]\n",
    "cloud_ranges = [1]\n",
    "# Expected Output: 110\n",
    "\n",
    "# Function test\n",
    "maximumPeople(populations, town_locations, cloud_locations, cloud_ranges)\n"
   ]
  },
  {
   "cell_type": "markdown",
   "metadata": {},
   "source": [
    "Q3. Goodland Electricity"
   ]
  },
  {
   "cell_type": "code",
   "execution_count": 5,
   "metadata": {},
   "outputs": [
    {
     "data": {
      "text/plain": [
       "2"
      ]
     },
     "execution_count": 5,
     "metadata": {},
     "output_type": "execute_result"
    }
   ],
   "source": [
    "def pylons(k, arr):\n",
    "    n = len(arr)\n",
    "    num_plants = 0\n",
    "    i = 0\n",
    "    \n",
    "    while i < n:\n",
    "        # Find the farthest city within the range to place a power plant\n",
    "        plant_pos = -1\n",
    "        for j in range(max(0, i-k+1), min(n, i+k)):\n",
    "            if arr[j] == 1:\n",
    "                plant_pos = j\n",
    "                \n",
    "        # If no city is found within the range, it's not possible to cover all cities\n",
    "        if plant_pos == -1:\n",
    "            return -1\n",
    "        \n",
    "        num_plants += 1\n",
    "        i = plant_pos + k  # Move to the next segment of cities that require power\n",
    "    \n",
    "    return num_plants\n",
    "\n",
    "# Sample Input\n",
    "k = 2\n",
    "arr = [0, 1, 1, 1, 1, 0]\n",
    "# Expected Output: 2\n",
    "\n",
    "# Function Test\n",
    "pylons(k, arr)\n"
   ]
  }
 ],
 "metadata": {
  "kernelspec": {
   "display_name": "Python 3",
   "language": "python",
   "name": "python3"
  },
  "language_info": {
   "codemirror_mode": {
    "name": "ipython",
    "version": 3
   },
   "file_extension": ".py",
   "mimetype": "text/x-python",
   "name": "python",
   "nbconvert_exporter": "python",
   "pygments_lexer": "ipython3",
   "version": "3.10.undefined"
  }
 },
 "nbformat": 4,
 "nbformat_minor": 2
}
