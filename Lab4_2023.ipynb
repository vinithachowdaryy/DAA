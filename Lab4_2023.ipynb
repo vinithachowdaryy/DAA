{
 "cells": [
  {
   "cell_type": "markdown",
   "metadata": {},
   "source": [
    "Q1"
   ]
  },
  {
   "cell_type": "code",
   "execution_count": 1,
   "metadata": {},
   "outputs": [
    {
     "data": {
      "text/plain": [
       "(240.0, 50.0, [(60, 10, 1), (100, 20, 1), (80.0, 20.0, 0.6666666666666666)])"
      ]
     },
     "execution_count": 1,
     "metadata": {},
     "output_type": "execute_result"
    }
   ],
   "source": [
    "# Defining the items and the sack capacity\n",
    "items = [\n",
    "    {\"benefit\": 60, \"weight\": 10},\n",
    "    {\"benefit\": 100, \"weight\": 20},\n",
    "    {\"benefit\": 120, \"weight\": 30}\n",
    "]\n",
    "W = 50\n",
    "\n",
    "# Calculating benefit to weight ratio for each item\n",
    "for item in items:\n",
    "    item[\"ratio\"] = item[\"benefit\"] / item[\"weight\"]\n",
    "\n",
    "# Sorting items by their benefit to weight ratio in descending order\n",
    "items_sorted = sorted(items, key=lambda x: x[\"ratio\"], reverse=True)\n",
    "\n",
    "# Algorithm to fill the sack to maximize the benefit\n",
    "sack = {\"items\": [], \"total_benefit\": 0, \"total_weight\": 0}\n",
    "remaining_capacity = W\n",
    "\n",
    "for item in items_sorted:\n",
    "    if remaining_capacity - item[\"weight\"] >= 0:\n",
    "        # If the item can be fully added to the sack\n",
    "        sack[\"items\"].append({\"benefit\": item[\"benefit\"], \"weight\": item[\"weight\"], \"fraction\": 1})\n",
    "        sack[\"total_benefit\"] += item[\"benefit\"]\n",
    "        sack[\"total_weight\"] += item[\"weight\"]\n",
    "        remaining_capacity -= item[\"weight\"]\n",
    "    else:\n",
    "        # If only a fraction of the item can be added\n",
    "        fraction = remaining_capacity / item[\"weight\"]\n",
    "        sack[\"items\"].append({\"benefit\": item[\"benefit\"] * fraction, \"weight\": item[\"weight\"] * fraction, \"fraction\": fraction})\n",
    "        sack[\"total_benefit\"] += item[\"benefit\"] * fraction\n",
    "        sack[\"total_weight\"] += item[\"weight\"] * fraction\n",
    "        break  # Sack is full\n",
    "\n",
    "sack[\"total_benefit\"], sack[\"total_weight\"], [(item[\"benefit\"], item[\"weight\"], item[\"fraction\"]) for item in sack[\"items\"]]\n"
   ]
  },
  {
   "cell_type": "markdown",
   "metadata": {},
   "source": [
    "Q2"
   ]
  },
  {
   "cell_type": "code",
   "execution_count": 2,
   "metadata": {},
   "outputs": [
    {
     "data": {
      "text/plain": [
       "40"
      ]
     },
     "execution_count": 2,
     "metadata": {},
     "output_type": "execute_result"
    }
   ],
   "source": [
    "# Given array\n",
    "arr_example = [2, 5, 3, 4, 0]\n",
    "\n",
    "# Step 1: Sort the array in non-decreasing (ascending) order\n",
    "arr_sorted_example = sorted(arr_example)\n",
    "\n",
    "# Step 2: Calculate the maximum sum\n",
    "max_sum_example = sum(arr_sorted_example[i] * i for i in range(len(arr_sorted_example)))\n",
    "\n",
    "max_sum_example\n"
   ]
  },
  {
   "cell_type": "markdown",
   "metadata": {},
   "source": [
    "Q3"
   ]
  },
  {
   "cell_type": "code",
   "execution_count": 3,
   "metadata": {},
   "outputs": [
    {
     "data": {
      "text/plain": [
       "104"
      ]
     },
     "execution_count": 3,
     "metadata": {},
     "output_type": "execute_result"
    }
   ],
   "source": [
    "# Given arrays\n",
    "array_one = [7, 5, 1, 4]\n",
    "array_two = [6, 17, 9, 3]\n",
    "\n",
    "# Step 1: Sort array_one in ascending order\n",
    "array_one_sorted = sorted(array_one)\n",
    "\n",
    "# Step 2: Sort array_two in descending order\n",
    "array_two_sorted = sorted(array_two, reverse=True)\n",
    "\n",
    "# Step 3: Calculate the minimum sum of products\n",
    "min_sum_of_products = sum(array_one_sorted[i] * array_two_sorted[i] for i in range(len(array_one)))\n",
    "\n",
    "min_sum_of_products\n"
   ]
  }
 ],
 "metadata": {
  "kernelspec": {
   "display_name": "Python 3",
   "language": "python",
   "name": "python3"
  },
  "language_info": {
   "codemirror_mode": {
    "name": "ipython",
    "version": 3
   },
   "file_extension": ".py",
   "mimetype": "text/x-python",
   "name": "python",
   "nbconvert_exporter": "python",
   "pygments_lexer": "ipython3",
   "version": "3.10.11"
  }
 },
 "nbformat": 4,
 "nbformat_minor": 2
}
